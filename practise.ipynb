{
 "cells": [
  {
   "cell_type": "code",
   "execution_count": 17,
   "id": "fcbbf21a",
   "metadata": {},
   "outputs": [
    {
     "name": "stdout",
     "output_type": "stream",
     "text": [
      "99\n",
      "18\n"
     ]
    }
   ],
   "source": [
    "num=input()\n",
    "a=int(num[0])\n",
    "b=int(num[1])\n",
    "print(a+b)\n"
   ]
  },
  {
   "cell_type": "code",
   "execution_count": null,
   "id": "9cf7b83b",
   "metadata": {},
   "outputs": [],
   "source": []
  },
  {
   "cell_type": "code",
   "execution_count": 20,
   "id": "99bfb447",
   "metadata": {},
   "outputs": [
    {
     "name": "stdout",
     "output_type": "stream",
     "text": [
      "hyd\n",
      "huli\n",
      "hyd huli\n"
     ]
    }
   ],
   "source": [
    "city=input()\n",
    "pet=input()\n",
    "print(city+\" \" + pet)"
   ]
  },
  {
   "cell_type": "code",
   "execution_count": 31,
   "id": "72ba9c00",
   "metadata": {},
   "outputs": [
    {
     "name": "stdout",
     "output_type": "stream",
     "text": [
      "VK scored 183 against Pak and winning is True\n"
     ]
    }
   ],
   "source": [
    "score=183\n",
    "name=\"VK\"\n",
    "opponent='Pak'\n",
    "status=True\n",
    "print(f\"{name} scored {score} against {opponent} and winning is {status}\")"
   ]
  },
  {
   "cell_type": "code",
   "execution_count": 3,
   "id": "dff01105",
   "metadata": {},
   "outputs": [
    {
     "name": "stdout",
     "output_type": "stream",
     "text": [
      "apple\n",
      "banana\n",
      "chikkoo\n"
     ]
    }
   ],
   "source": [
    "fruits=[\"apple\",\"banana\",\"chikkoo\"]\n",
    "for i in fruits:\n",
    "    print(i)"
   ]
  },
  {
   "cell_type": "code",
   "execution_count": 5,
   "id": "356a2b31",
   "metadata": {},
   "outputs": [
    {
     "name": "stdout",
     "output_type": "stream",
     "text": [
      "R\n",
      "a\n",
      "h\n",
      "u\n",
      "l\n",
      "P\n",
      "o\n",
      "o\n",
      "j\n",
      "a\n"
     ]
    }
   ],
   "source": [
    "for i in \"Rahul\":\n",
    "    print(i)\n",
    "for i in \"Pooja\":\n",
    "    print(i)"
   ]
  },
  {
   "cell_type": "raw",
   "id": "bea444c7",
   "metadata": {},
   "source": []
  },
  {
   "cell_type": "code",
   "execution_count": 25,
   "id": "c007cbc9",
   "metadata": {},
   "outputs": [
    {
     "name": "stdout",
     "output_type": "stream",
     "text": [
      "['ardvark', 'baboon', 'camel']\n",
      "guess a letter\n",
      "a\n",
      "a\n",
      "camel\n",
      "['_', '_', '_', '_', '_']\n",
      "['_', 'a', '_', '_', '_']\n"
     ]
    }
   ],
   "source": [
    "import random\n",
    "word_list=[\"ardvark\",\"baboon\",\"camel\"]\n",
    "print(word_list)\n",
    "\n",
    "user_choice=input(\"guess a letter\\n\").lower()\n",
    "chosen_word=random.choice(word_list)\n",
    "\n",
    "print(user_choice)\n",
    "print(chosen_word)\n",
    "\n",
    "word_length=len(chosen_word)\n",
    "\n",
    "display=[\"_\"]*word_length\n",
    "print(display)\n",
    "\n",
    "for position in range(word_length):\n",
    "    letter=chosen_word[position]\n",
    "    if letter==user_choice:\n",
    "        display[position]=letter\n",
    "print(display)\n"
   ]
  },
  {
   "cell_type": "code",
   "execution_count": 32,
   "id": "c4929dd6",
   "metadata": {},
   "outputs": [
    {
     "name": "stdout",
     "output_type": "stream",
     "text": [
      "[23, 46, 78, 98, 45]\n",
      "98\n"
     ]
    }
   ],
   "source": [
    "num=[23,46,78,98,45]\n",
    "print(num)\n",
    "highest_score=0\n",
    "for score in num:\n",
    "    if score>highest_score:\n",
    "        highest_score=score\n",
    "print(highest_score)\n",
    "     "
   ]
  }
 ],
 "metadata": {
  "kernelspec": {
   "display_name": "Python 3 (ipykernel)",
   "language": "python",
   "name": "python3"
  },
  "language_info": {
   "codemirror_mode": {
    "name": "ipython",
    "version": 3
   },
   "file_extension": ".py",
   "mimetype": "text/x-python",
   "name": "python",
   "nbconvert_exporter": "python",
   "pygments_lexer": "ipython3",
   "version": "3.9.12"
  }
 },
 "nbformat": 4,
 "nbformat_minor": 5
}
