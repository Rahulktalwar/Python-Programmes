{
 "cells": [
  {
   "cell_type": "code",
   "execution_count": 1,
   "id": "668cb217",
   "metadata": {},
   "outputs": [
    {
     "name": "stdout",
     "output_type": "stream",
     "text": [
      "Hello World\n",
      "Hello World\n",
      "Hello World\n"
     ]
    }
   ],
   "source": [
    "print('Hello World\\nHello World\\nHello World')"
   ]
  },
  {
   "cell_type": "code",
   "execution_count": 2,
   "id": "3615bdc1",
   "metadata": {},
   "outputs": [
    {
     "name": "stdout",
     "output_type": "stream",
     "text": [
      "Hello Rahul\n"
     ]
    }
   ],
   "source": [
    "print('Hello'+\" \"+'Rahul')"
   ]
  },
  {
   "cell_type": "code",
   "execution_count": 3,
   "id": "61b3d2c1",
   "metadata": {},
   "outputs": [
    {
     "name": "stdout",
     "output_type": "stream",
     "text": [
      "What is your name?Pooja\n",
      "Hello Pooja\n"
     ]
    }
   ],
   "source": [
    "print(\"Hello \" + input(\"What is your name?\"))"
   ]
  },
  {
   "cell_type": "code",
   "execution_count": 4,
   "id": "b5cce894",
   "metadata": {},
   "outputs": [
    {
     "name": "stdout",
     "output_type": "stream",
     "text": [
      "Kenchappa\n",
      "9\n"
     ]
    }
   ],
   "source": [
    "print(len(input()))"
   ]
  },
  {
   "cell_type": "code",
   "execution_count": 5,
   "id": "fa11ef74",
   "metadata": {},
   "outputs": [
    {
     "name": "stdout",
     "output_type": "stream",
     "text": [
      "Name :Rahul\n",
      "Rahul\n"
     ]
    }
   ],
   "source": [
    "name=input(\"Name :\")\n",
    "print(name)"
   ]
  },
  {
   "cell_type": "code",
   "execution_count": 6,
   "id": "66d48a46",
   "metadata": {},
   "outputs": [
    {
     "name": "stdout",
     "output_type": "stream",
     "text": [
      "What is your name?Saroja\n",
      "6\n"
     ]
    }
   ],
   "source": [
    "name=input(\"What is your name?\")\n",
    "length=len(name)\n",
    "print(length)"
   ]
  },
  {
   "cell_type": "code",
   "execution_count": 7,
   "id": "883a580b",
   "metadata": {},
   "outputs": [
    {
     "name": "stdout",
     "output_type": "stream",
     "text": [
      "30\n",
      "20\n"
     ]
    }
   ],
   "source": [
    "a=20\n",
    "b=30\n",
    "c=a\n",
    "a=b\n",
    "b=c\n",
    "print(a)\n",
    "print(b)"
   ]
  },
  {
   "cell_type": "code",
   "execution_count": 12,
   "id": "051f53de",
   "metadata": {},
   "outputs": [
    {
     "name": "stdout",
     "output_type": "stream",
     "text": [
      "Welcome to the band name generator :\n",
      "Which city u grew up in ?Belagavi\n",
      "Which is ur fav pet?Rabbit\n",
      "Your band name is Belagavi Rabbit\n"
     ]
    }
   ],
   "source": [
    "print(\"Welcome to the band name generator :\")\n",
    "city=input(\"Which city u grew up in ?\")\n",
    "pet=input(\"Which is ur fav pet?\")\n",
    "print(\"Your band name is \"+ city + \" \" + pet)"
   ]
  },
  {
   "cell_type": "code",
   "execution_count": null,
   "id": "b2d53603",
   "metadata": {},
   "outputs": [],
   "source": [
    " "
   ]
  },
  {
   "cell_type": "code",
   "execution_count": null,
   "id": "8883b7de",
   "metadata": {},
   "outputs": [],
   "source": [
    " "
   ]
  },
  {
   "cell_type": "code",
   "execution_count": null,
   "id": "fb467dac",
   "metadata": {},
   "outputs": [],
   "source": [
    " \n"
   ]
  },
  {
   "cell_type": "code",
   "execution_count": null,
   "id": "21626ed3",
   "metadata": {},
   "outputs": [],
   "source": []
  },
  {
   "cell_type": "code",
   "execution_count": null,
   "id": "6820d7fe",
   "metadata": {},
   "outputs": [],
   "source": []
  }
 ],
 "metadata": {
  "kernelspec": {
   "display_name": "Python 3 (ipykernel)",
   "language": "python",
   "name": "python3"
  },
  "language_info": {
   "codemirror_mode": {
    "name": "ipython",
    "version": 3
   },
   "file_extension": ".py",
   "mimetype": "text/x-python",
   "name": "python",
   "nbconvert_exporter": "python",
   "pygments_lexer": "ipython3",
   "version": "3.9.12"
  }
 },
 "nbformat": 4,
 "nbformat_minor": 5
}
