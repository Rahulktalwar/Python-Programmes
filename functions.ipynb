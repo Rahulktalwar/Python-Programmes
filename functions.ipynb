{
 "cells": [
  {
   "cell_type": "code",
   "execution_count": 5,
   "id": "ec47a0f3",
   "metadata": {},
   "outputs": [
    {
     "name": "stdout",
     "output_type": "stream",
     "text": [
      "Hello\n",
      "GM\n"
     ]
    }
   ],
   "source": [
    "def greet():\n",
    "    print(\"Hello\")\n",
    "    print('GM')\n",
    "    \n",
    "greet()"
   ]
  },
  {
   "cell_type": "code",
   "execution_count": 6,
   "id": "bdf22ad9",
   "metadata": {},
   "outputs": [
    {
     "name": "stdout",
     "output_type": "stream",
     "text": [
      "9\n"
     ]
    }
   ],
   "source": [
    "def add(x,y):\n",
    "    c=x+y\n",
    "    print(c)\n",
    "add(4,5)"
   ]
  },
  {
   "cell_type": "code",
   "execution_count": 20,
   "id": "af2b2843",
   "metadata": {},
   "outputs": [
    {
     "name": "stdout",
     "output_type": "stream",
     "text": [
      "23\n"
     ]
    }
   ],
   "source": [
    "def add(x,y):\n",
    "    c=x+y\n",
    "    return c\n",
    "result=add(9,14)\n",
    "print(result)"
   ]
  },
  {
   "cell_type": "code",
   "execution_count": 49,
   "id": "6ae8ddf8",
   "metadata": {},
   "outputs": [
    {
     "name": "stdout",
     "output_type": "stream",
     "text": [
      "17\n",
      "-1\n"
     ]
    }
   ],
   "source": [
    "def add_sub(x,y):\n",
    "    c=x+y\n",
    "    d=x-y\n",
    "    return c,d\n",
    "\n",
    "result1,result2=add_sub(8,9)\n",
    "print(result1)\n",
    "print(result2)"
   ]
  },
  {
   "cell_type": "code",
   "execution_count": null,
   "id": "f45eb40c",
   "metadata": {},
   "outputs": [],
   "source": []
  },
  {
   "cell_type": "code",
   "execution_count": 30,
   "id": "a487dcfc",
   "metadata": {},
   "outputs": [
    {
     "name": "stdout",
     "output_type": "stream",
     "text": [
      "Hello\n",
      "GM\n"
     ]
    }
   ],
   "source": [
    "def greet():\n",
    "    print(\"Hello\")\n",
    "    print(\"GM\")\n",
    "greet()"
   ]
  },
  {
   "cell_type": "code",
   "execution_count": 47,
   "id": "c8cdb643",
   "metadata": {},
   "outputs": [
    {
     "name": "stdout",
     "output_type": "stream",
     "text": [
      "10\n"
     ]
    }
   ],
   "source": [
    "def add(x,y):\n",
    "    c=x+y\n",
    "    return c\n",
    "r=add(4,6)\n",
    "print(r)\n"
   ]
  },
  {
   "cell_type": "code",
   "execution_count": 48,
   "id": "8a03bdab",
   "metadata": {},
   "outputs": [
    {
     "name": "stdout",
     "output_type": "stream",
     "text": [
      "14\n",
      "-2\n"
     ]
    }
   ],
   "source": [
    "def add_sub(x,y):\n",
    "    c=x+y\n",
    "    d=x-y\n",
    "    \n",
    "    return c,d\n",
    "r1,r2=add_sub(6,8)\n",
    "print(r1)\n",
    "print(r2)"
   ]
  },
  {
   "cell_type": "code",
   "execution_count": 50,
   "id": "2d2083a7",
   "metadata": {},
   "outputs": [
    {
     "name": "stdout",
     "output_type": "stream",
     "text": [
      "10\n"
     ]
    }
   ],
   "source": [
    "def add(a,b):\n",
    "    c=a+b\n",
    "    print(c)\n",
    "add(4,6)"
   ]
  },
  {
   "cell_type": "code",
   "execution_count": 63,
   "id": "25b9fb44",
   "metadata": {},
   "outputs": [
    {
     "name": "stdout",
     "output_type": "stream",
     "text": [
      "Rahul\n",
      "18\n"
     ]
    }
   ],
   "source": [
    "def person(name, age=18):\n",
    "    print(name)\n",
    "    print(age)\n",
    "person(\"Rahul\")"
   ]
  },
  {
   "cell_type": "code",
   "execution_count": 93,
   "id": "731d0029",
   "metadata": {},
   "outputs": [
    {
     "name": "stdout",
     "output_type": "stream",
     "text": [
      "165\n"
     ]
    }
   ],
   "source": [
    "def sum(a,*b):\n",
    "    c=a\n",
    "    for i in b:\n",
    "        c=c+i\n",
    "    print(c)\n",
    "    \n",
    "sum(5,6,67,87)"
   ]
  },
  {
   "cell_type": "code",
   "execution_count": 107,
   "id": "989c103c",
   "metadata": {},
   "outputs": [
    {
     "name": "stdout",
     "output_type": "stream",
     "text": [
      "-12\n"
     ]
    }
   ],
   "source": [
    "def sub(a,*b):\n",
    "    c=a\n",
    "    for i in b:\n",
    "     c=c-i\n",
    "    print(c)\n",
    "    \n",
    "sub(9,8,6,7)"
   ]
  },
  {
   "cell_type": "code",
   "execution_count": 118,
   "id": "2c1b723e",
   "metadata": {},
   "outputs": [
    {
     "name": "stdout",
     "output_type": "stream",
     "text": [
      "20\n",
      "120\n",
      "360\n"
     ]
    }
   ],
   "source": [
    "def mul(a,*b):\n",
    "    c=a \n",
    "    for i in b:\n",
    "        c=c*i\n",
    "        print(c)\n",
    "\n",
    "mul(4,5,6,3)"
   ]
  },
  {
   "cell_type": "code",
   "execution_count": 24,
   "id": "38663f6f",
   "metadata": {},
   "outputs": [
    {
     "name": "stdout",
     "output_type": "stream",
     "text": [
      "i5,16gb,1TB\n",
      "i5,16gb,1TB\n",
      "i5,16gb,1TB\n",
      "i5,16gb,1TB\n"
     ]
    }
   ],
   "source": [
    "#classes and objects\n",
    "\n",
    "class computer:\n",
    "    def config(self):\n",
    "        print(\"i5,16gb,1TB\")\n",
    "     \n",
    "\n",
    "    c=computer()\n",
    "    d=computer()\n",
    "    \n",
    "    computer.config(c)\n",
    "    computer.config(d)\n",
    "    \n",
    "    c.config()\n",
    "    d.config()"
   ]
  },
  {
   "cell_type": "code",
   "execution_count": 114,
   "id": "e0286346",
   "metadata": {},
   "outputs": [
    {
     "name": "stdout",
     "output_type": "stream",
     "text": [
      "<class '__main__.school'>\n"
     ]
    }
   ],
   "source": [
    "class school():\n",
    "    \n",
    "         t=school()\n",
    "         print(type(t))"
   ]
  },
  {
   "cell_type": "code",
   "execution_count": 120,
   "id": "be1f68ab",
   "metadata": {},
   "outputs": [
    {
     "ename": "NameError",
     "evalue": "name 'instructor' is not defined",
     "output_type": "error",
     "traceback": [
      "\u001b[1;31m---------------------------------------------------------------------------\u001b[0m",
      "\u001b[1;31mNameError\u001b[0m                                 Traceback (most recent call last)",
      "Input \u001b[1;32mIn [120]\u001b[0m, in \u001b[0;36m<cell line: 1>\u001b[1;34m()\u001b[0m\n\u001b[1;32m----> 1\u001b[0m \u001b[38;5;28;01mclass\u001b[39;00m \u001b[38;5;21;01minstructor\u001b[39;00m():\n\u001b[0;32m      3\u001b[0m     instructor_1\u001b[38;5;241m=\u001b[39minstructor()\n\u001b[0;32m      4\u001b[0m     \u001b[38;5;28mprint\u001b[39m(\u001b[38;5;28mtype\u001b[39m(instructor_1))\n",
      "Input \u001b[1;32mIn [120]\u001b[0m, in \u001b[0;36minstructor\u001b[1;34m()\u001b[0m\n\u001b[0;32m      1\u001b[0m \u001b[38;5;28;01mclass\u001b[39;00m \u001b[38;5;21;01minstructor\u001b[39;00m():\n\u001b[1;32m----> 3\u001b[0m     instructor_1\u001b[38;5;241m=\u001b[39m\u001b[43minstructor\u001b[49m()\n\u001b[0;32m      4\u001b[0m     \u001b[38;5;28mprint\u001b[39m(\u001b[38;5;28mtype\u001b[39m(instructor_1))\n",
      "\u001b[1;31mNameError\u001b[0m: name 'instructor' is not defined"
     ]
    }
   ],
   "source": [
    "class instructor():\n",
    "    \n",
    "    instructor_1=instructor()\n",
    "    print(type(instructor_1))"
   ]
  },
  {
   "cell_type": "code",
   "execution_count": null,
   "id": "d8abdb92",
   "metadata": {},
   "outputs": [],
   "source": []
  }
 ],
 "metadata": {
  "kernelspec": {
   "display_name": "Python 3 (ipykernel)",
   "language": "python",
   "name": "python3"
  },
  "language_info": {
   "codemirror_mode": {
    "name": "ipython",
    "version": 3
   },
   "file_extension": ".py",
   "mimetype": "text/x-python",
   "name": "python",
   "nbconvert_exporter": "python",
   "pygments_lexer": "ipython3",
   "version": "3.9.12"
  }
 },
 "nbformat": 4,
 "nbformat_minor": 5
}
