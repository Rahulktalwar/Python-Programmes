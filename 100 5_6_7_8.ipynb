{
 "cells": [
  {
   "cell_type": "code",
   "execution_count": null,
   "id": "24e8fb5f",
   "metadata": {},
   "outputs": [],
   "source": [
    "students_scores=input().split()\n",
    "for n in range(0,len(students_scores)):\n",
    "    students_scores[n]=int(students_scores[n])\n",
    "\n",
    "highest_score=0\n",
    "for score in students_scores:\n",
    "    if score > highest_score:\n",
    "        highest_score=score\n",
    "print(highest_score)"
   ]
  },
  {
   "cell_type": "code",
   "execution_count": null,
   "id": "3bd2f3b6",
   "metadata": {},
   "outputs": [],
   "source": []
  },
  {
   "cell_type": "code",
   "execution_count": null,
   "id": "92736e66",
   "metadata": {},
   "outputs": [],
   "source": []
  },
  {
   "cell_type": "code",
   "execution_count": null,
   "id": "a7a392ef",
   "metadata": {},
   "outputs": [],
   "source": [
    "for num in range(1,11,3):\n",
    "    print(num)"
   ]
  },
  {
   "cell_type": "code",
   "execution_count": null,
   "id": "77598920",
   "metadata": {},
   "outputs": [],
   "source": [
    "#guass cal\n",
    "total=0\n",
    "for num in range(1,101):\n",
    "    total=total+num\n",
    "print(total)"
   ]
  },
  {
   "cell_type": "code",
   "execution_count": null,
   "id": "f8bb6270",
   "metadata": {},
   "outputs": [],
   "source": [
    "#even num cal\n",
    "target=int(input())\n",
    "total=0\n",
    "for num in range(2,target+2,2):\n",
    "    total=total+num\n",
    "print(total)"
   ]
  },
  {
   "cell_type": "code",
   "execution_count": null,
   "id": "39003760",
   "metadata": {},
   "outputs": [],
   "source": [
    "for num in range(1,101):\n",
    "    if num%3==0 and num%5==0:\n",
    "        print(\"FizzBuzz\")\n",
    "    elif num%3==0:\n",
    "        print(\"Fizz\")\n",
    "    elif num%5==0:\n",
    "        print(\"Buzz\")\n",
    "    else:\n",
    "        print(num)"
   ]
  },
  {
   "cell_type": "code",
   "execution_count": null,
   "id": "34fb1ef1",
   "metadata": {},
   "outputs": [],
   "source": [
    "print(\"Rahul Pooja\")"
   ]
  },
  {
   "cell_type": "code",
   "execution_count": null,
   "id": "ffa57e82",
   "metadata": {},
   "outputs": [],
   "source": [
    "#Day 6 Functions"
   ]
  },
  {
   "cell_type": "code",
   "execution_count": null,
   "id": "0aced418",
   "metadata": {},
   "outputs": [],
   "source": [
    "def my_function():\n",
    "    print(\"Hello\")\n",
    "    print(\"Bye\")\n",
    "\n",
    "my_function()"
   ]
  },
  {
   "cell_type": "code",
   "execution_count": null,
   "id": "90925da9",
   "metadata": {},
   "outputs": [],
   "source": [
    "#while loop\n",
    "i=1\n",
    "while i<=6:\n",
    "    print(i)\n",
    "    i=i+1"
   ]
  },
  {
   "cell_type": "code",
   "execution_count": null,
   "id": "c4826fe2",
   "metadata": {},
   "outputs": [],
   "source": [
    "i=1\n",
    "while i<=6:\n",
    "    print(i)\n",
    "    if i==4:\n",
    "        break\n",
    "    i=i+1"
   ]
  },
  {
   "cell_type": "code",
   "execution_count": null,
   "id": "37518267",
   "metadata": {},
   "outputs": [],
   "source": [
    "i=1\n",
    "while i<=6:\n",
    "    i=i+1\n",
    "    if i==4:\n",
    "        continue\n",
    "    print(i)"
   ]
  },
  {
   "cell_type": "code",
   "execution_count": null,
   "id": "b41581d1",
   "metadata": {},
   "outputs": [],
   "source": [
    "#hurdles while\n",
    "def right():\n",
    "    turn_left()\n",
    "    turn_left()\n",
    "    turn_left()\n",
    "    \n",
    "\n",
    "def jump():\n",
    "    turn_left()\n",
    "    move()\n",
    "    right()\n",
    "    move()\n",
    "    right()\n",
    "    move()\n",
    "    turn_left()\n",
    "    \n",
    "while not at_goal():\n",
    "    if wall_in_front():\n",
    "        jump()\n",
    "    else :\n",
    "        move()\n"
   ]
  },
  {
   "cell_type": "code",
   "execution_count": 4,
   "id": "98ad72e4",
   "metadata": {
    "scrolled": true
   },
   "outputs": [
    {
     "name": "stdout",
     "output_type": "stream",
     "text": [
      "['_', '_', '_', '_', '_']\n",
      "Guess a letter\n",
      "a\n",
      "['_', 'a', '_', '_', '_']\n",
      "Guess a letter\n",
      "c\n",
      "['c', 'a', '_', '_', '_']\n",
      "Guess a letter\n",
      "m\n",
      "['c', 'a', 'm', '_', '_']\n",
      "Guess a letter\n",
      "w\n",
      "['c', 'a', 'm', '_', '_']\n",
      "Guess a letter\n",
      "e\n",
      "['c', 'a', 'm', 'e', '_']\n",
      "Guess a letter\n",
      "l\n",
      "['c', 'a', 'm', 'e', 'l']\n",
      "Guess a letter\n",
      "you win\n",
      "['c', 'a', 'm', 'e', 'l']\n"
     ]
    },
    {
     "ename": "KeyboardInterrupt",
     "evalue": "Interrupted by user",
     "output_type": "error",
     "traceback": [
      "\u001b[1;31m---------------------------------------------------------------------------\u001b[0m",
      "\u001b[1;31mKeyboardInterrupt\u001b[0m                         Traceback (most recent call last)",
      "Input \u001b[1;32mIn [4]\u001b[0m, in \u001b[0;36m<cell line: 11>\u001b[1;34m()\u001b[0m\n\u001b[0;32m      9\u001b[0m end_game\u001b[38;5;241m=\u001b[39m\u001b[38;5;28;01mFalse\u001b[39;00m\n\u001b[0;32m     11\u001b[0m \u001b[38;5;28;01mwhile\u001b[39;00m \u001b[38;5;129;01mnot\u001b[39;00m end_game:\n\u001b[1;32m---> 12\u001b[0m     guess\u001b[38;5;241m=\u001b[39m\u001b[38;5;28;43minput\u001b[39;49m\u001b[43m(\u001b[49m\u001b[38;5;124;43m\"\u001b[39;49m\u001b[38;5;124;43mGuess a letter\u001b[39;49m\u001b[38;5;130;43;01m\\n\u001b[39;49;00m\u001b[38;5;124;43m\"\u001b[39;49m\u001b[43m)\u001b[49m\u001b[38;5;241m.\u001b[39mlower()\n\u001b[0;32m     13\u001b[0m     \u001b[38;5;28;01mfor\u001b[39;00m position \u001b[38;5;129;01min\u001b[39;00m \u001b[38;5;28mrange\u001b[39m(word_length):\n\u001b[0;32m     14\u001b[0m         letter\u001b[38;5;241m=\u001b[39mchosen_word[position]\n",
      "File \u001b[1;32m~\\Downloads1\\lib\\site-packages\\ipykernel\\kernelbase.py:1075\u001b[0m, in \u001b[0;36mKernel.raw_input\u001b[1;34m(self, prompt)\u001b[0m\n\u001b[0;32m   1071\u001b[0m \u001b[38;5;28;01mif\u001b[39;00m \u001b[38;5;129;01mnot\u001b[39;00m \u001b[38;5;28mself\u001b[39m\u001b[38;5;241m.\u001b[39m_allow_stdin:\n\u001b[0;32m   1072\u001b[0m     \u001b[38;5;28;01mraise\u001b[39;00m StdinNotImplementedError(\n\u001b[0;32m   1073\u001b[0m         \u001b[38;5;124m\"\u001b[39m\u001b[38;5;124mraw_input was called, but this frontend does not support input requests.\u001b[39m\u001b[38;5;124m\"\u001b[39m\n\u001b[0;32m   1074\u001b[0m     )\n\u001b[1;32m-> 1075\u001b[0m \u001b[38;5;28;01mreturn\u001b[39;00m \u001b[38;5;28;43mself\u001b[39;49m\u001b[38;5;241;43m.\u001b[39;49m\u001b[43m_input_request\u001b[49m\u001b[43m(\u001b[49m\n\u001b[0;32m   1076\u001b[0m \u001b[43m    \u001b[49m\u001b[38;5;28;43mstr\u001b[39;49m\u001b[43m(\u001b[49m\u001b[43mprompt\u001b[49m\u001b[43m)\u001b[49m\u001b[43m,\u001b[49m\n\u001b[0;32m   1077\u001b[0m \u001b[43m    \u001b[49m\u001b[38;5;28;43mself\u001b[39;49m\u001b[38;5;241;43m.\u001b[39;49m\u001b[43m_parent_ident\u001b[49m\u001b[43m[\u001b[49m\u001b[38;5;124;43m\"\u001b[39;49m\u001b[38;5;124;43mshell\u001b[39;49m\u001b[38;5;124;43m\"\u001b[39;49m\u001b[43m]\u001b[49m\u001b[43m,\u001b[49m\n\u001b[0;32m   1078\u001b[0m \u001b[43m    \u001b[49m\u001b[38;5;28;43mself\u001b[39;49m\u001b[38;5;241;43m.\u001b[39;49m\u001b[43mget_parent\u001b[49m\u001b[43m(\u001b[49m\u001b[38;5;124;43m\"\u001b[39;49m\u001b[38;5;124;43mshell\u001b[39;49m\u001b[38;5;124;43m\"\u001b[39;49m\u001b[43m)\u001b[49m\u001b[43m,\u001b[49m\n\u001b[0;32m   1079\u001b[0m \u001b[43m    \u001b[49m\u001b[43mpassword\u001b[49m\u001b[38;5;241;43m=\u001b[39;49m\u001b[38;5;28;43;01mFalse\u001b[39;49;00m\u001b[43m,\u001b[49m\n\u001b[0;32m   1080\u001b[0m \u001b[43m\u001b[49m\u001b[43m)\u001b[49m\n",
      "File \u001b[1;32m~\\Downloads1\\lib\\site-packages\\ipykernel\\kernelbase.py:1120\u001b[0m, in \u001b[0;36mKernel._input_request\u001b[1;34m(self, prompt, ident, parent, password)\u001b[0m\n\u001b[0;32m   1117\u001b[0m             \u001b[38;5;28;01mbreak\u001b[39;00m\n\u001b[0;32m   1118\u001b[0m \u001b[38;5;28;01mexcept\u001b[39;00m \u001b[38;5;167;01mKeyboardInterrupt\u001b[39;00m:\n\u001b[0;32m   1119\u001b[0m     \u001b[38;5;66;03m# re-raise KeyboardInterrupt, to truncate traceback\u001b[39;00m\n\u001b[1;32m-> 1120\u001b[0m     \u001b[38;5;28;01mraise\u001b[39;00m \u001b[38;5;167;01mKeyboardInterrupt\u001b[39;00m(\u001b[38;5;124m\"\u001b[39m\u001b[38;5;124mInterrupted by user\u001b[39m\u001b[38;5;124m\"\u001b[39m) \u001b[38;5;28;01mfrom\u001b[39;00m \u001b[38;5;28mNone\u001b[39m\n\u001b[0;32m   1121\u001b[0m \u001b[38;5;28;01mexcept\u001b[39;00m \u001b[38;5;167;01mException\u001b[39;00m:\n\u001b[0;32m   1122\u001b[0m     \u001b[38;5;28mself\u001b[39m\u001b[38;5;241m.\u001b[39mlog\u001b[38;5;241m.\u001b[39mwarning(\u001b[38;5;124m\"\u001b[39m\u001b[38;5;124mInvalid Message:\u001b[39m\u001b[38;5;124m\"\u001b[39m, exc_info\u001b[38;5;241m=\u001b[39m\u001b[38;5;28;01mTrue\u001b[39;00m)\n",
      "\u001b[1;31mKeyboardInterrupt\u001b[0m: Interrupted by user"
     ]
    }
   ],
   "source": [
    "#day 7 HangMan\n",
    "import random\n",
    "words_list=[\"ardvark\",\"baboon\",\"camel\"]\n",
    "chosen_word=random.choice(words_list)\n",
    "word_length=len(chosen_word)\n",
    "\n",
    "display=[\"_\"]*word_length\n",
    "print(display)\n",
    "end_game=False\n",
    "\n",
    "while not end_game:\n",
    "    guess=input(\"Guess a letter\\n\").lower()\n",
    "    for position in range(word_length):\n",
    "        letter=chosen_word[position]\n",
    "        if letter==guess:\n",
    "            display[position]=letter  \n",
    "        \n",
    "    print(display)\n",
    "\n",
    "if \"_\" not in display:\n",
    "    end_game=True\n",
    "    print(\"You Win!\")\n",
    "    "
   ]
  },
  {
   "cell_type": "code",
   "execution_count": 11,
   "id": "5f526826",
   "metadata": {},
   "outputs": [
    {
     "name": "stdout",
     "output_type": "stream",
     "text": [
      "Hello\n",
      "How are u doing?\n",
      "Isn't the weather cool today\n",
      "Hello Rahul\n",
      "How are u doing? Rahul\n",
      "Isn't the weather cool today Rahul\n",
      "Hi Pooja, will u marry Rahul\n"
     ]
    }
   ],
   "source": [
    "#Day 8\n",
    "def greet():\n",
    "    print(\"Hello\")\n",
    "    print(\"How are u doing?\")\n",
    "    print(\"Isn't the weather cool today\")\n",
    "\n",
    "greet()\n",
    "\n",
    "def greet_with_name(name):\n",
    "    print(f\"Hello {name}\")\n",
    "    print(f\"How are u doing? {name}\")\n",
    "    print(f\"Isn't the weather cool today {name}\")\n",
    "    print(f\"Hi Pooja, will u marry {name}\")\n",
    "\n",
    "greet_with_name(\"Rahul\")\n",
    "    \n",
    "    "
   ]
  },
  {
   "cell_type": "code",
   "execution_count": 13,
   "id": "1e7ddc7d",
   "metadata": {},
   "outputs": [
    {
     "name": "stdout",
     "output_type": "stream",
     "text": [
      "I am Rahul\n",
      "From Belagavi\n",
      "I am Pooja\n",
      "From Maradimath\n"
     ]
    }
   ],
   "source": [
    "def greet(name,location):\n",
    "    print(f\"I am {name}\")\n",
    "    print(f\"From {location}\")\n",
    "\n",
    "greet(\"Rahul\",\"Belagavi\")\n",
    "greet(\"Pooja\",\"Maradimath\")"
   ]
  },
  {
   "cell_type": "code",
   "execution_count": 1,
   "id": "92e8b465",
   "metadata": {},
   "outputs": [
    {
     "name": "stdout",
     "output_type": "stream",
     "text": [
      "Hi I am Rahul\n",
      "I am in Hyd\n"
     ]
    }
   ],
   "source": [
    "def greet(name=\"Rahul\",loc=\"Hyd\"):\n",
    "    print(f\"Hi I am {name}\")\n",
    "    print(f\"I am in {loc}\")\n",
    "\n",
    "greet()"
   ]
  },
  {
   "cell_type": "code",
   "execution_count": 4,
   "id": "c69c2835",
   "metadata": {},
   "outputs": [
    {
     "name": "stdout",
     "output_type": "stream",
     "text": [
      "3\n",
      "9\n",
      "paint cans required are 6\n"
     ]
    }
   ],
   "source": [
    "import math\n",
    "def paint_calc(height,width,cover):\n",
    "    paint=(height*width)/cover\n",
    "    paint=math.ceil(paint)\n",
    "    print(f\"paint cans required are {paint}\")\n",
    "    \n",
    "    \n",
    "test_h=int(input())\n",
    "test_w=int(input())\n",
    "coverage=5\n",
    "paint_calc(height=test_h,width=test_w,cover=coverage)"
   ]
  },
  {
   "cell_type": "code",
   "execution_count": 16,
   "id": "a39d89b9",
   "metadata": {},
   "outputs": [
    {
     "name": "stdout",
     "output_type": "stream",
     "text": [
      "79\n",
      "num is prime\n"
     ]
    }
   ],
   "source": [
    "#prime num \n",
    "num=int(input())\n",
    "if num<=1:\n",
    "    print(\"Not prime number\")\n",
    "elif num>1:\n",
    "    for i in range(2,num):\n",
    "        if num%i==0:\n",
    "            print(\"num is not prime\")\n",
    "            break\n",
    "    else:\n",
    "        print(\"num is prime\")"
   ]
  },
  {
   "cell_type": "code",
   "execution_count": 37,
   "id": "b74aa5c9",
   "metadata": {},
   "outputs": [
    {
     "name": "stdout",
     "output_type": "stream",
     "text": [
      "83\n",
      "Prime Num\n"
     ]
    }
   ],
   "source": [
    "def prime_checker(num):\n",
    "    num=int(input())\n",
    "    if num<=1:\n",
    "        print(\"Not prime\")\n",
    "    elif num>1:\n",
    "        for i in range(2,num):\n",
    "            if num%i==0:\n",
    "                print(\"Not prime\")\n",
    "                break\n",
    "        else:\n",
    "            print(\"Prime Num\")\n",
    "\n",
    "\n",
    "prime_checker(num=n)"
   ]
  },
  {
   "cell_type": "code",
   "execution_count": 4,
   "id": "ad3183f0",
   "metadata": {},
   "outputs": [
    {
     "name": "stdout",
     "output_type": "stream",
     "text": [
      "sum: 5\n",
      "sum: 15\n",
      "sum: 17.8\n"
     ]
    }
   ],
   "source": [
    "def add(a,b):\n",
    "    sum=a+b\n",
    "    print(\"sum:\",sum)\n",
    "\n",
    "add(2,3)\n",
    "add(7,8)\n",
    "add(8.8,9)"
   ]
  },
  {
   "cell_type": "code",
   "execution_count": 24,
   "id": "a030bb22",
   "metadata": {},
   "outputs": [
    {
     "name": "stdout",
     "output_type": "stream",
     "text": [
      "{'name': 'Rahul', 'age': 24, 'loc': 'Hyd'}\n",
      "24\n",
      "{'name': 'Rahul', 'age': 24, 'loc': 'Hyd', 'base': 'Bng'}\n",
      "{}\n"
     ]
    }
   ],
   "source": [
    "#9th Day Dictionaries\n",
    "info={\n",
    "    \"name\":\"Rahul\",\n",
    "    \"age\":24,\n",
    "    \"loc\":\"Hyd\"\n",
    "}\n",
    "print(info)\n",
    "print(info[\"age\"])\n",
    "\n",
    "info[\"base\"]=\"Bng\"\n",
    "print(info)\n",
    "\n",
    "b={} #empty dict\n",
    "print(b)"
   ]
  },
  {
   "cell_type": "code",
   "execution_count": 31,
   "id": "3e4a0628",
   "metadata": {},
   "outputs": [
    {
     "name": "stdout",
     "output_type": "stream",
     "text": [
      "{'name': 'Rahul', 'age': 24, 'loc': 'Hyd'}\n",
      "name\n",
      "Rahul\n",
      "age\n",
      "24\n",
      "loc\n",
      "Hyd\n"
     ]
    }
   ],
   "source": [
    "info={\n",
    "    \"name\":\"Rahul\",\n",
    "    \"age\":24,\n",
    "    \"loc\":\"Hyd\"\n",
    "}\n",
    "print(info)\n",
    "\n",
    "for key in info:\n",
    "    print(key)\n",
    "    print(info[key])"
   ]
  },
  {
   "cell_type": "code",
   "execution_count": 40,
   "id": "5ee0b90d",
   "metadata": {},
   "outputs": [
    {
     "name": "stdout",
     "output_type": "stream",
     "text": [
      "{'Harry': 81, 'Ron': 78, 'Hermione': 99, 'Draco': 74, 'Neville': 62}\n",
      "{'Harry': 'exceeding expectn', 'Ron': 'acceptable', 'Hermione': 'Outstanding', 'Draco': 'acceptable', 'Neville': 'Fail'}\n"
     ]
    }
   ],
   "source": [
    "student_scores={\n",
    "    \"Harry\":81,\n",
    "    \"Ron\":78,\n",
    "    \"Hermione\":99,\n",
    "    \"Draco\":74,\n",
    "    \"Neville\":62\n",
    "}\n",
    "print(student_scores)\n",
    "\n",
    "student_grades={}\n",
    "for student in student_scores:\n",
    "    score=student_scores[student]\n",
    "    if score>90:\n",
    "        student_grades[student]=\"Outstanding\"\n",
    "    elif score>80:\n",
    "        student_grades[student]=\"exceeding expectn\"\n",
    "    elif score>70:\n",
    "        student_grades[student]=\"acceptable\"\n",
    "    else:\n",
    "        student_grades[student]=\"Fail\"\n",
    "        \n",
    "print(student_grades)"
   ]
  },
  {
   "cell_type": "code",
   "execution_count": 54,
   "id": "5edeebcc",
   "metadata": {},
   "outputs": [
    {
     "name": "stdout",
     "output_type": "stream",
     "text": [
      "{'France': 'Paris', 'Germany': 'Berlin'}\n",
      "{'France': ['Paris', 'Lille', 'Dijon'], 'Germany': ['Berlin', 'Hamburg', 'Stuttgart']}\n",
      "{'France': {'cities_visited': ['Paris', 'Lille', 'Dijon'], 'visits': 12}, 'Germany': {'cities_visited': ['Berlin', 'Hamburg', 'Stuttgart'], 'visits': 13}}\n",
      "[{'country': 'France', 'cities_visited': ['Paris', 'Lille', 'Dijon'], 'visits': 12}, {'country': 'Germany', 'cities_visited': ['Berlin', 'Hamburg', 'Stuttgart'], 'visits': 13}]\n"
     ]
    }
   ],
   "source": [
    "#nesting lists and dictionaries\n",
    "capitals={\n",
    "    \"France\":\"Paris\",\n",
    "    \"Germany\":\"Berlin\"\n",
    "}\n",
    "print(capitals)\n",
    "\n",
    "travel_log={\n",
    "    \"France\":[\"Paris\",\"Lille\",\"Dijon\"],\n",
    "    \"Germany\":[\"Berlin\",\"Hamburg\",\"Stuttgart\"]    \n",
    "}\n",
    "print(travel_log)\n",
    "\n",
    "travel_visits={\n",
    "    \"France\":{\"cities_visited\":[\"Paris\",\"Lille\",\"Dijon\"], \"visits\":12},\n",
    "    \"Germany\":{\"cities_visited\":[\"Berlin\",\"Hamburg\",\"Stuttgart\"], \"visits\":13}   \n",
    "}\n",
    "print(travel_visits)\n",
    "\n",
    "travel_visits=[\n",
    "{\n",
    "\"country\":\"France\",\n",
    "\"cities_visited\":[\"Paris\",\"Lille\",\"Dijon\"], \n",
    "\"visits\":12\n",
    "         },\n",
    "    \n",
    "{\n",
    "\"country\":\"Germany\",\n",
    "\"cities_visited\":[\"Berlin\",\"Hamburg\",\"Stuttgart\"], \n",
    "\"visits\":13\n",
    "         }\n",
    "]  \n",
    "\n",
    "print(travel_visits)"
   ]
  },
  {
   "cell_type": "code",
   "execution_count": 63,
   "id": "24421c4e",
   "metadata": {
    "scrolled": false
   },
   "outputs": [
    {
     "data": {
      "text/plain": [
       "35"
      ]
     },
     "execution_count": 63,
     "metadata": {},
     "output_type": "execute_result"
    }
   ],
   "source": [
    "#Day 10 functions with outputs\n",
    "def fun():\n",
    "    result=5*7\n",
    "    return result\n",
    "\n",
    "fun()  "
   ]
  },
  {
   "cell_type": "code",
   "execution_count": 74,
   "id": "1cdecd6c",
   "metadata": {},
   "outputs": [
    {
     "name": "stdout",
     "output_type": "stream",
     "text": [
      "Rahul Pooja\n"
     ]
    }
   ],
   "source": [
    "def fun(fname,lname):\n",
    "    f=fname.title()\n",
    "    l=lname.title()\n",
    "\n",
    "    return f\"{f} {l}\"\n",
    "\n",
    "o=fun(\"rAhuL\",\"pOoJa\")\n",
    "print(o)"
   ]
  },
  {
   "cell_type": "code",
   "execution_count": 11,
   "id": "15c8cc1f",
   "metadata": {},
   "outputs": [
    {
     "data": {
      "text/plain": [
       "'invalid inputs'"
      ]
     },
     "execution_count": 11,
     "metadata": {},
     "output_type": "execute_result"
    }
   ],
   "source": [
    "def fun(fname,lname):\n",
    "    if fname==\"\" or lname==\"\":\n",
    "        return \"invalid inputs\"\n",
    "    f=fname.title()\n",
    "    l=lname.title()\n",
    "    \n",
    "    return f\"{f} {l}\"\n",
    "\n",
    "fun(\"\",\"pOoJa\")"
   ]
  },
  {
   "cell_type": "code",
   "execution_count": 34,
   "id": "c7bc5b02",
   "metadata": {},
   "outputs": [
    {
     "name": "stdout",
     "output_type": "stream",
     "text": [
      "2016\n",
      "8\n",
      "31\n"
     ]
    }
   ],
   "source": [
    "def is_leap(year):\n",
    "    if year%4==0:\n",
    "        if year%100==0:\n",
    "            if year%400==0:\n",
    "                return True\n",
    "            else:\n",
    "                return False\n",
    "        else:\n",
    "            return True\n",
    "    else:\n",
    "        return False\n",
    "    \n",
    "def days_in_months(year,month):\n",
    "    month_days=[31,28,31,30,31,30,31,31,30,31,30,31]\n",
    "    if month==2 and is_leap(year):\n",
    "        return 29\n",
    "    else:\n",
    "        return month_days[month-1]\n",
    "    \n",
    "    \n",
    "year=int(input())\n",
    "month=int(input())\n",
    "days=days_in_months(year,month)\n",
    "print(days)           "
   ]
  },
  {
   "cell_type": "code",
   "execution_count": 48,
   "id": "ec0ed8fb",
   "metadata": {},
   "outputs": [
    {
     "name": "stdout",
     "output_type": "stream",
     "text": [
      "15\n",
      "9\n"
     ]
    }
   ],
   "source": [
    "#Scopes Local and Global Variables\n",
    "\n",
    "enemy=9\n",
    "\n",
    "def enemies():\n",
    "    enemy=12\n",
    "    enemy+=3\n",
    "    print(enemy)\n",
    "enemies()\n",
    "\n",
    "print(enemy)"
   ]
  }
 ],
 "metadata": {
  "kernelspec": {
   "display_name": "Python 3 (ipykernel)",
   "language": "python",
   "name": "python3"
  },
  "language_info": {
   "codemirror_mode": {
    "name": "ipython",
    "version": 3
   },
   "file_extension": ".py",
   "mimetype": "text/x-python",
   "name": "python",
   "nbconvert_exporter": "python",
   "pygments_lexer": "ipython3",
   "version": "3.9.12"
  }
 },
 "nbformat": 4,
 "nbformat_minor": 5
}
