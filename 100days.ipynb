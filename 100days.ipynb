{
 "cells": [
  {
   "cell_type": "code",
   "execution_count": 88,
   "id": "5739415b",
   "metadata": {},
   "outputs": [],
   "source": [
    "#DAY2"
   ]
  },
  {
   "cell_type": "code",
   "execution_count": null,
   "id": "3fba13e9",
   "metadata": {},
   "outputs": [],
   "source": []
  },
  {
   "cell_type": "code",
   "execution_count": 17,
   "id": "781fda6b",
   "metadata": {},
   "outputs": [
    {
     "name": "stdout",
     "output_type": "stream",
     "text": [
      "H\n",
      "o\n",
      "123345\n",
      "468\n",
      "3.142\n",
      "True\n",
      "False\n"
     ]
    }
   ],
   "source": [
    "print(\"Hello\"[0])\n",
    "print(\"Hello\"[4])\n",
    "print(\"123\"+\"345\")\n",
    "print(123+345)\n",
    "print(3.142)\n",
    "print(5>3)\n",
    "print(2>8)"
   ]
  },
  {
   "cell_type": "code",
   "execution_count": 21,
   "id": "47a520f7",
   "metadata": {},
   "outputs": [
    {
     "name": "stdout",
     "output_type": "stream",
     "text": [
      "<class 'float'>\n"
     ]
    }
   ],
   "source": [
    "a=100.77\n",
    "print(type(a))"
   ]
  },
  {
   "cell_type": "code",
   "execution_count": 28,
   "id": "3971e008",
   "metadata": {},
   "outputs": [
    {
     "name": "stdout",
     "output_type": "stream",
     "text": [
      "123\n",
      "<class 'str'>\n",
      "70100\n",
      "170\n"
     ]
    }
   ],
   "source": [
    "a=str(123)\n",
    "print(a)\n",
    "print(type(a))\n",
    "print(str(70)+str(100))\n",
    "print(int(70)+int(100))"
   ]
  },
  {
   "cell_type": "code",
   "execution_count": 55,
   "id": "4d8ec17c",
   "metadata": {},
   "outputs": [
    {
     "name": "stdout",
     "output_type": "stream",
     "text": [
      "37\n",
      "10\n"
     ]
    }
   ],
   "source": [
    "num=input()\n",
    "first_num=int(num[0])\n",
    "sec_num=int(num[1])\n",
    "c=first_num+sec_num\n",
    "print(c)\n"
   ]
  },
  {
   "cell_type": "code",
   "execution_count": 63,
   "id": "073f5586",
   "metadata": {},
   "outputs": [
    {
     "name": "stdout",
     "output_type": "stream",
     "text": [
      "8\n",
      "2\n",
      "18\n",
      "9.0\n",
      "8\n"
     ]
    }
   ],
   "source": [
    "#PEMDAS\n",
    "print(3+5)\n",
    "print(5-3)\n",
    "print(6*3)\n",
    "print(18/2)\n",
    "print(2**3)"
   ]
  },
  {
   "cell_type": "code",
   "execution_count": 74,
   "id": "62665b18",
   "metadata": {},
   "outputs": [
    {
     "name": "stdout",
     "output_type": "stream",
     "text": [
      "52\n",
      "1.72\n",
      "17.577068685776098\n",
      "18\n",
      "17.58\n"
     ]
    }
   ],
   "source": [
    "weight=int(input())\n",
    "height=float(input())\n",
    "bmi=weight/(height*height)\n",
    "print(bmi)\n",
    "print(round(bmi))\n",
    "print(round(bmi,2))"
   ]
  },
  {
   "cell_type": "code",
   "execution_count": 77,
   "id": "72241be4",
   "metadata": {},
   "outputs": [
    {
     "name": "stdout",
     "output_type": "stream",
     "text": [
      "2.6666666666666665\n",
      "2\n"
     ]
    }
   ],
   "source": [
    "print(8/3)\n",
    "#floor division\n",
    "print(8//3) "
   ]
  },
  {
   "cell_type": "code",
   "execution_count": 84,
   "id": "1adc2fb6",
   "metadata": {},
   "outputs": [
    {
     "name": "stdout",
     "output_type": "stream",
     "text": [
      "4\n",
      "2\n",
      "6\n"
     ]
    }
   ],
   "source": [
    "score=2\n",
    "score +=2\n",
    "print(score)\n",
    "score -=2\n",
    "print(score)\n",
    "\n",
    "score *=3\n",
    "print(score)"
   ]
  },
  {
   "cell_type": "code",
   "execution_count": 1,
   "id": "288ad9fc",
   "metadata": {},
   "outputs": [
    {
     "name": "stdout",
     "output_type": "stream",
     "text": [
      "Your score is 100, your match is 50, your win is True\n"
     ]
    }
   ],
   "source": [
    "#f-string\n",
    "score=100\n",
    "match=50\n",
    "win=True\n",
    "print(f\"Your score is {score}, your match is {match}, your win is {win}\")"
   ]
  },
  {
   "cell_type": "code",
   "execution_count": 18,
   "id": "78c4bb9e",
   "metadata": {},
   "outputs": [
    {
     "name": "stdout",
     "output_type": "stream",
     "text": [
      "enter age\n",
      "41\n",
      "you have 2548 weeks left\n"
     ]
    }
   ],
   "source": [
    "#total weeks left\n",
    "print(\"enter age\")\n",
    "age=int(input())\n",
    "year=90-age\n",
    "weeks=year*52\n",
    "print(f\"you have {weeks} weeks left\")"
   ]
  },
  {
   "cell_type": "markdown",
   "id": "524f96a3",
   "metadata": {},
   "source": [
    "# print(\"Welcome to the tip calculator:\")\n",
    "bill=float(input(\"What was the total bill?\\n\"))\n",
    "tip=int(input(\"What percentage of tip u would like to give? 10,12, or 15?\\n\"))\n",
    "mem=int(input(\"How many people to split the bill?\\n\"))\n",
    "amount=(tip/100)*bill + bill\n",
    "each=round((amount/mem),2)\n",
    "print(f\"each person should pay {each}\")"
   ]
  },
  {
   "cell_type": "code",
   "execution_count": 38,
   "id": "81b3dae2",
   "metadata": {},
   "outputs": [
    {
     "name": "stdout",
     "output_type": "stream",
     "text": [
      "Welcome to the tip calculator:\n",
      "What was the total bill?\n",
      "1456.786\n",
      "What percentage of tip u would like to give? 10,12, or 15?\n",
      "12\n",
      "How many people to split the bill?\n",
      "8\n",
      "each person should pay 203.95\n"
     ]
    }
   ],
   "source": [
    "print(\"Welcome to the tip calculator:\")\n",
    "bill=float(input(\"What was the total bill?\\n\")) \n",
    "tip=int(input(\"What percentage of tip u would like to give? 10,12, or 15?\\n\"))\n",
    "mem=int(input(\"How many people to split the bill?\\n\")) \n",
    "amount=(tip/100)*bill + bill \n",
    "each=round((amount/mem),2)\n",
    "print(f\"each person should pay {each}\")"
   ]
  },
  {
   "cell_type": "code",
   "execution_count": 39,
   "id": "cabc40af",
   "metadata": {},
   "outputs": [],
   "source": [
    "#DAY3 Conditional Statements"
   ]
  },
  {
   "cell_type": "code",
   "execution_count": 47,
   "id": "85afdde1",
   "metadata": {},
   "outputs": [
    {
     "name": "stdout",
     "output_type": "stream",
     "text": [
      "Welcome to the Rollercoaster!\n",
      "123\n",
      "You can ride the Rollercoaster!\n"
     ]
    }
   ],
   "source": [
    "print('Welcome to the Rollercoaster!')\n",
    "height=int(input())\n",
    "if height>=120:\n",
    "    print(\"You can ride the Rollercoaster!\")\n",
    "else:\n",
    "    print(\"Sorry! You need to grow taller\")"
   ]
  },
  {
   "cell_type": "code",
   "execution_count": 56,
   "id": "aa0a0c85",
   "metadata": {},
   "outputs": [
    {
     "name": "stdout",
     "output_type": "stream",
     "text": [
      "2345\n",
      "This is an odd number\n"
     ]
    }
   ],
   "source": [
    "num=int(input())\n",
    "if num%2==0:\n",
    "    print(\"This is an even number\")\n",
    "else:\n",
    "    print(\"This is an odd number\")\n"
   ]
  },
  {
   "cell_type": "markdown",
   "id": "ffa43e19",
   "metadata": {},
   "source": [
    "height=int(input())\n",
    "age=int(input())\n",
    "if height>=120:\n",
    "    if age<=18:\n",
    "        print(\"price is $7\")\n",
    "    else:\n",
    "        print(\"price is $ 12\")\n",
    "else:\n",
    "    print(\"Can't ride\")"
   ]
  },
  {
   "cell_type": "code",
   "execution_count": 73,
   "id": "7216bbcd",
   "metadata": {},
   "outputs": [
    {
     "name": "stdout",
     "output_type": "stream",
     "text": [
      "120\n",
      "23\n",
      "Price is $12\n"
     ]
    }
   ],
   "source": [
    "height=int(input()) \n",
    "age=int(input()) \n",
    "if height>=120: \n",
    "    if age<=18: \n",
    "        print(\"price is  7\")\n",
    "    else:\n",
    "        print(\"Price is $12\") \n",
    "else:\n",
    "    print(\"Can't ride\")"
   ]
  },
  {
   "cell_type": "code",
   "execution_count": 79,
   "id": "5ddaf059",
   "metadata": {},
   "outputs": [
    {
     "name": "stdout",
     "output_type": "stream",
     "text": [
      "123\n",
      "9\n",
      "price is $5\n"
     ]
    }
   ],
   "source": [
    "height=int(input()) \n",
    "age=int(input()) \n",
    "if height>=120: \n",
    "    if age<12: \n",
    "        print(\"price is $5\")\n",
    "    elif age >=12 and age <=18:\n",
    "        print(\"Price is $7\") \n",
    "    else:\n",
    "        print(\"price is $12\")\n",
    "else:\n",
    "    print(\"Can't ride\")\n",
    "    "
   ]
  },
  {
   "cell_type": "code",
   "execution_count": 17,
   "id": "8d5042f5",
   "metadata": {},
   "outputs": [
    {
     "name": "stdout",
     "output_type": "stream",
     "text": [
      "Enter height1.79\n",
      "Enter weight66\n",
      "20.6\n",
      "your bmi is 20.6,Normal Weight\n"
     ]
    }
   ],
   "source": [
    "#bmi 2.0\n",
    "height=float(input(\"Enter height\"))\n",
    "weight=int(input(\"Enter weight\"))\n",
    "bmi=round(weight/(height*height),2)\n",
    "print(bmi)\n",
    "if bmi<18.5:\n",
    "    print(f\"your bmi is {bmi},Under Weight\")\n",
    "elif bmi>18.5 and bmi <25:\n",
    "    print(f\"your bmi is {bmi},Normal Weight\")\n",
    "elif bmi>25 and bmi <30:\n",
    "    print(f\"your bmi is {bmi},Over Weight\")\n",
    "elif bmi>30 and bmi < 35:\n",
    "    print(f\"your bmi is {bmi},Obese\")\n",
    "else:\n",
    "    print(f\"your bmi is {bmi},Clinically Obese\")"
   ]
  },
  {
   "cell_type": "code",
   "execution_count": 101,
   "id": "c0125f55",
   "metadata": {},
   "outputs": [
    {
     "name": "stdout",
     "output_type": "stream",
     "text": [
      "2100\n",
      "2100 is not a leaf year\n"
     ]
    }
   ],
   "source": [
    "year=int(input())\n",
    "if year%100==0 and year%400==0:\n",
    "    print(f\"{year} is a leaf year\")\n",
    "elif year%100!=0 and year%4==0:\n",
    "    print(f\"{year} is a leaf year\")\n",
    "else:\n",
    "    print(f\"{year} is not a leaf year\")"
   ]
  },
  {
   "cell_type": "code",
   "execution_count": 19,
   "id": "bc2bdde8",
   "metadata": {},
   "outputs": [
    {
     "name": "stdout",
     "output_type": "stream",
     "text": [
      "Enter ur height179\n",
      "enter age22\n",
      "price is $12\n",
      "Do u need photos? \"Y\", \"N\" Y\n",
      "Your final bill is 15\n"
     ]
    }
   ],
   "source": [
    "height=int(input(\"Enter ur height\")) \n",
    "age=int(input(\"enter age\")) \n",
    "bill=0\n",
    "\n",
    "if height>=120: \n",
    "    if age<12: \n",
    "        bill=5\n",
    "        print(\"price is $5\")\n",
    "    elif age >=12 and age <=18:\n",
    "        bill=7\n",
    "        print(\"Price is $7\") \n",
    "    else:\n",
    "        bill=12\n",
    "        print(\"price is $12\")\n",
    "        \n",
    "    wants_photos=input('Do u need photos? \"Y\", \"N\" ')\n",
    "    if wants_photos==\"Y\":\n",
    "        bill +=3\n",
    "        print(f\"Your final bill is {bill}\")\n",
    "    \n",
    "else:\n",
    "    print(\"Can't ride\")\n",
    "    "
   ]
  },
  {
   "cell_type": "code",
   "execution_count": 39,
   "id": "cea811d3",
   "metadata": {},
   "outputs": [
    {
     "name": "stdout",
     "output_type": "stream",
     "text": [
      "Thank you for choosing Python Pizza Deliverables!\n",
      "What size pizza do u want? S,M or L L\n",
      "Do u want to add pepper? Y or N Y\n",
      "Do u need extra cheese? Y or N Y\n",
      "Your final bill is 29\n"
     ]
    }
   ],
   "source": [
    "print(\"Thank you for choosing Python Pizza Deliverables!\")\n",
    "size=input(\"What size pizza do u want? S,M or L \")\n",
    "pepper=input(\"Do u want to add pepper? Y or N \")\n",
    "cheese=input(\"Do u need extra cheese? Y or N \")\n",
    "\n",
    "bill=0\n",
    "if size=='S':\n",
    "    bill=bill+15\n",
    "     \n",
    "elif size=='M':\n",
    "    bill=bill+20\n",
    "      \n",
    "else:\n",
    "    bill=bill+25\n",
    "\n",
    "if pepper=='Y':\n",
    "    if size=='S':\n",
    "        bill=bill+2\n",
    "    else:\n",
    "        bill=bill+3\n",
    "\n",
    "if cheese=='Y':\n",
    "    bill=bill+1\n",
    "    \n",
    "    print(f\"Your final bill is {bill}\")"
   ]
  },
  {
   "cell_type": "code",
   "execution_count": 45,
   "id": "282d441b",
   "metadata": {},
   "outputs": [
    {
     "name": "stdout",
     "output_type": "stream",
     "text": [
      "The Love Calculator\n",
      "What is ur name? Rahul\n",
      "What is her name? Pooja\n",
      "rahulpooja\n",
      "23\n"
     ]
    }
   ],
   "source": [
    "print(\"The Love Calculator\")\n",
    "name1=input(\"What is ur name? \")\n",
    "name2=input(\"What is her name? \")\n",
    "name=name1 + name2\n",
    "lower_name=name.lower()\n",
    "print(lower_name)\n",
    "\n",
    "t=lower_name.count(\"t\")\n",
    "r=lower_name.count(\"r\")\n",
    "u=lower_name.count(\"u\")\n",
    "e=lower_name.count(\"e\")\n",
    "f_digit = t+r+u+e\n",
    "\n",
    "l=lower_name.count(\"l\")\n",
    "o=lower_name.count(\"o\")\n",
    "v=lower_name.count(\"v\")\n",
    "e=lower_name.count(\"e\")\n",
    "s_digit = l+o+v+e\n",
    "\n",
    "score = int(str(f_digit)+str(s_digit))\n",
    "print(score)"
   ]
  },
  {
   "cell_type": "code",
   "execution_count": 54,
   "id": "7edb377e",
   "metadata": {},
   "outputs": [
    {
     "name": "stdout",
     "output_type": "stream",
     "text": [
      "Welcome to the Treasure Island!\n",
      "Where u want to go? Left or Right Left\n",
      "do u want to wait or swim? wait\n",
      "Which door? blue,yellow or red blue\n",
      "You Win\n"
     ]
    }
   ],
   "source": [
    "print(\"Welcome to the Treasure Island!\")\n",
    "move=input(\"Where u want to go? Left or Right \")\n",
    "\n",
    "if move=='Left':\n",
    "    choose=input(\"do u want to wait or swim? \")\n",
    "    if choose=='wait':\n",
    "        color=input(\"Which door? blue,yellow or red \")\n",
    "        if color=='blue' and color=='red':\n",
    "            print(\"Game Over\")\n",
    "        else:\n",
    "            print(\"You Win\") \n",
    "            \n",
    "    else :\n",
    "        print('Game Over')\n",
    "    \n",
    "else:\n",
    "    print('Game Over')"
   ]
  },
  {
   "cell_type": "code",
   "execution_count": 65,
   "id": "27a7827e",
   "metadata": {},
   "outputs": [
    {
     "name": "stdout",
     "output_type": "stream",
     "text": [
      "['KA', 'MH', 'GOA', 'AP', 'KL', 'TN']\n",
      "['KA', 'MH', 'GOA', 'AP', 'KL', 'TN', 'PN']\n",
      "['KA', 'MH', 'GOA', 'AP', 'KL', 'TN', 'PN', 'JK', 'HP']\n"
     ]
    }
   ],
   "source": [
    "#DAY 4 LISTS\n",
    "states=[\"KA\",\"MH\",\"GOA\",\"AP\",\"KL\",\"TS\"]\n",
    "states[5]='TN'\n",
    "print(states)\n",
    "states.append(\"PN\")\n",
    "print(states)\n",
    "states.extend([\"JK\",\"HP\"])\n",
    "print(states)"
   ]
  },
  {
   "cell_type": "code",
   "execution_count": 95,
   "id": "7935fb8e",
   "metadata": {},
   "outputs": [
    {
     "name": "stdout",
     "output_type": "stream",
     "text": [
      "8\n",
      "0.4163109429554971\n"
     ]
    }
   ],
   "source": [
    "import random\n",
    "r=random.randint(2,8)\n",
    "print(r)\n",
    "r=random.random()\n",
    "print(r)"
   ]
  },
  {
   "cell_type": "code",
   "execution_count": 123,
   "id": "52fb3fe3",
   "metadata": {},
   "outputs": [
    {
     "name": "stdout",
     "output_type": "stream",
     "text": [
      "Heads\n"
     ]
    }
   ],
   "source": [
    "import random\n",
    "toss=random.randint(0,1)\n",
    "if toss==1:\n",
    "    print(\"Heads\")\n",
    "else:\n",
    "    print(\"Tails\")"
   ]
  },
  {
   "cell_type": "code",
   "execution_count": 3,
   "id": "130f274b",
   "metadata": {},
   "outputs": [
    {
     "name": "stdout",
     "output_type": "stream",
     "text": [
      "['Welcome', 'to', 'my', 'heart', 'Pooja']\n"
     ]
    }
   ],
   "source": [
    "#split() splits a string into list items\n",
    "text=\"Welcome to my heart Pooja\"\n",
    "c=text.split()\n",
    "print(c)"
   ]
  },
  {
   "cell_type": "code",
   "execution_count": 101,
   "id": "715cdc62",
   "metadata": {},
   "outputs": [
    {
     "name": "stdout",
     "output_type": "stream",
     "text": [
      "Rahul\n"
     ]
    }
   ],
   "source": [
    "names_string='Rahul, Pooja, Kartik, Saroja, Kenchappa'\n",
    "names=names_string.split(\", \")\n",
    "\n",
    "import random\n",
    "length=len(names)\n",
    "\n",
    "choice=random.randint(0,length-1)\n",
    "\n",
    "payer=names[choice]\n",
    "print(payer)"
   ]
  },
  {
   "cell_type": "code",
   "execution_count": 116,
   "id": "181e955a",
   "metadata": {},
   "outputs": [
    {
     "name": "stdout",
     "output_type": "stream",
     "text": [
      "Enter choice: rock, paper, scissors paper\n",
      "paper will cover rock! You win!\n"
     ]
    }
   ],
   "source": [
    "import random\n",
    "action=[\"rock\",\"paper\",\"scissors\"]\n",
    "user=input(\"Enter choice: rock, paper, scissors \")\n",
    "comp=random.choice(action)\n",
    "\n",
    "if user==comp:\n",
    "    print(\"Tie\")\n",
    "elif user==\"rock\":\n",
    "    if comp==\"paper\":\n",
    "        print(\"paper will cover rock! You lose!\")\n",
    "    else:\n",
    "        print(\"rock smashes scissors! You win!\")\n",
    "\n",
    "elif user==\"paper\":\n",
    "    if comp==\"scissors\":\n",
    "        print(\"scissors will cut paper! You lose!\")\n",
    "    else:\n",
    "        print(\"paper will cover rock! You win!\")\n",
    "\n",
    "elif user==\"scissors\":\n",
    "    if comp==\"rock\":\n",
    "        print(\"rock smashes scissors! You loss!\")\n",
    "    else:\n",
    "        print(\"scissors will cut paper! You Win!\")"
   ]
  },
  {
   "cell_type": "code",
   "execution_count": null,
   "id": "47aa7545",
   "metadata": {},
   "outputs": [],
   "source": [
    "#Day 5 for loop"
   ]
  },
  {
   "cell_type": "code",
   "execution_count": 120,
   "id": "96d24a5f",
   "metadata": {},
   "outputs": [
    {
     "name": "stdout",
     "output_type": "stream",
     "text": [
      "apple\n",
      "chikkoo\n",
      "banana\n"
     ]
    }
   ],
   "source": [
    "fruits=[\"apple\",\"chikkoo\",\"banana\"]\n",
    "for fruit in fruits:\n",
    "    print(fruit)\n",
    "   "
   ]
  }
 ],
 "metadata": {
  "kernelspec": {
   "display_name": "Python 3 (ipykernel)",
   "language": "python",
   "name": "python3"
  },
  "language_info": {
   "codemirror_mode": {
    "name": "ipython",
    "version": 3
   },
   "file_extension": ".py",
   "mimetype": "text/x-python",
   "name": "python",
   "nbconvert_exporter": "python",
   "pygments_lexer": "ipython3",
   "version": "3.9.12"
  }
 },
 "nbformat": 4,
 "nbformat_minor": 5
}
